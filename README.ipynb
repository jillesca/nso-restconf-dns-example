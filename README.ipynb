{
 "cells": [
  {
   "cell_type": "markdown",
   "metadata": {},
   "source": [
    "# NSO Restconf - DNS Example\n",
    "\n",
    "This notebook provides an overview of how to use the `dns_restconf.py` module to interact with a network service orchestrator (NSO) using RESTCONF API calls. The module provides several methods to list devices, synchronize device configurations, and perform a dry-run addition of a DNS server."
   ]
  },
  {
   "cell_type": "markdown",
   "metadata": {},
   "source": [
    "## Lab Setup"
   ]
  },
  {
   "cell_type": "markdown",
   "metadata": {},
   "source": [
    "The [Makefile](Makefile) checks all the environment variables are set, any env var missing will cause the Makefile to fail."
   ]
  },
  {
   "cell_type": "code",
   "execution_count": null,
   "metadata": {},
   "outputs": [],
   "source": [
    "! export NCS_RUN_DIR=~/nso-lab-rundir\n",
    "! export REPO_DIR=~/src/nso-restconf-dns-example"
   ]
  },
  {
   "cell_type": "markdown",
   "metadata": {},
   "source": [
    "Source the `ncsrc` file."
   ]
  },
  {
   "cell_type": "code",
   "execution_count": null,
   "metadata": {},
   "outputs": [],
   "source": [
    "! source $NCS_DIR/ncsrc"
   ]
  },
  {
   "cell_type": "markdown",
   "metadata": {},
   "source": [
    "Build the environment. Everytime you build the environment, netsim & ncs are stopped, then the environment on `$NCS_RUN_DIR` is deleted. This is useful to start from scratch everytime when experimenting."
   ]
  },
  {
   "cell_type": "code",
   "execution_count": null,
   "metadata": {},
   "outputs": [],
   "source": [
    "! make -C $REPO_DIR build"
   ]
  },
  {
   "cell_type": "markdown",
   "metadata": {},
   "source": [
    "## Initialization\n",
    "\n",
    "First, initialize the session handler with your NSO credentials and base URL.\n"
   ]
  },
  {
   "cell_type": "code",
   "execution_count": null,
   "metadata": {},
   "outputs": [],
   "source": [
    "from dns_restconf import DnsHandler\n",
    "\n",
    "USERNAME = \"admin\"\n",
    "PASSWORD = \"admin\"\n",
    "BASE_URL = \"http://localhost:8080/restconf\"\n",
    "\n",
    "restconf = DnsHandler(USERNAME, PASSWORD, BASE_URL)"
   ]
  },
  {
   "cell_type": "markdown",
   "metadata": {},
   "source": [
    "#### List Devices in NSO\n",
    "To list all devices in the NSO, use the `list_devices_in_nso` method. This method sends a GET request to the NSO and prints the results.\n",
    "\n",
    "- REST Path: `/data?fields=tailf-ncs:devices/device(name;address)`\n",
    "- REST Operation: `GET`"
   ]
  },
  {
   "cell_type": "code",
   "execution_count": null,
   "metadata": {},
   "outputs": [],
   "source": [
    "restconf.list_devices_in_nso()"
   ]
  },
  {
   "cell_type": "markdown",
   "metadata": {},
   "source": [
    "#### Synchronize Configuration from a Single Device\n",
    "To synchronize the configuration from a single device, use the `nso_sync_from_single_device` method. This method sends a `POST` request to the NSO for the specified device and prints the results.\n",
    "\n",
    "- REST Path: `/operations/tailf-ncs:devices/device={device}/sync-from`\n",
    "- REST Operation: `POST`"
   ]
  },
  {
   "cell_type": "code",
   "execution_count": null,
   "metadata": {},
   "outputs": [],
   "source": [
    "restconf.nso_sync_from_single_device(device=\"ex1\")"
   ]
  },
  {
   "cell_type": "markdown",
   "metadata": {},
   "source": [
    "#### Synchronize Configuration from All Devices\n",
    "To synchronize the configuration from all devices, use the `nso_sync_from` method. This method sends a `POST` request to the NSO and prints the results.\n",
    "\n",
    "- REST Path: `/operations/tailf-ncs:devices/sync-from`\n",
    "- REST Operation: `POST`"
   ]
  },
  {
   "cell_type": "code",
   "execution_count": null,
   "metadata": {},
   "outputs": [],
   "source": [
    "restconf.nso_sync_from()"
   ]
  },
  {
   "cell_type": "markdown",
   "metadata": {},
   "source": [
    "#### Add DNS Server\n",
    "To add a DNS server to a device, use the `add_dns_server` method. This method sends a `PATCH` request to the NSO with the specified device and DNS server details and prints the results.\n",
    "\n",
    "- REST Path: `/data`\n",
    "- REST Operation: `PATCH`\n",
    "- Payloud:\n",
    "\n",
    "```json\n",
    "{\n",
    "  \"data\": {\n",
    "    \"dns-config:dns-config\": [\n",
    "      {\"device\": device, \"dns-server\": [{\"address\": dns_server}]}\n",
    "    ]\n",
    "  }\n",
    "}\n",
    "```"
   ]
  },
  {
   "cell_type": "code",
   "execution_count": null,
   "metadata": {},
   "outputs": [],
   "source": [
    "restconf.add_dns_server(device=\"ex1\", dns_server=\"1.1.1.1\")"
   ]
  },
  {
   "cell_type": "markdown",
   "metadata": {},
   "source": [
    "#### Check DNS Configuration\n",
    "To check the DNS configuration of a device, use the `check_dns_config` method. This method sends a GET request to the NSO and prints the results.\n",
    "\n",
    "- REST Path: `/data/tailf-ncs:devices/device={device}/config/tailf-ned-cisco-ios:ip/name-server/`\n",
    "- REST Operation: `GET`"
   ]
  },
  {
   "cell_type": "code",
   "execution_count": null,
   "metadata": {},
   "outputs": [],
   "source": [
    "restconf.check_dns_config(device=\"ex1\")"
   ]
  },
  {
   "cell_type": "markdown",
   "metadata": {},
   "source": [
    "#### Dry-Run Add DNS Server\n",
    "To perform a dry-run addition of a DNS server to a device, use the `dry_run_add_dns_server` method. This method sends a `PATCH` request to the NSO with the specified device and DNS server details and prints the results.\n",
    "\n",
    "- REST Path: `/data?dry-run=native`\n",
    "- REST Operation: `PATCH`\n",
    "- Payload:\n",
    "\n",
    "```json\n",
    "{\n",
    "  \"data\": {\n",
    "    \"dns-config:dns-config\": [\n",
    "      {\"device\": device, \"dns-server\": [{\"address\": dns_server}]}\n",
    "    ]\n",
    "  }\n",
    "}\n",
    "```"
   ]
  },
  {
   "cell_type": "code",
   "execution_count": null,
   "metadata": {},
   "outputs": [],
   "source": [
    "restconf.dry_run_add_dns_server(device=\"ex1\", dns_server=\"2.2.2.2\")"
   ]
  },
  {
   "cell_type": "code",
   "execution_count": null,
   "metadata": {},
   "outputs": [],
   "source": [
    "restconf.check_dns_config(device=\"ex1\")"
   ]
  },
  {
   "cell_type": "code",
   "execution_count": null,
   "metadata": {},
   "outputs": [],
   "source": [
    "restconf.add_dns_server(device=\"ex1\", dns_server=\"2.2.2.2\")"
   ]
  },
  {
   "cell_type": "code",
   "execution_count": null,
   "metadata": {},
   "outputs": [],
   "source": [
    "restconf.check_dns_config(device=\"ex1\")"
   ]
  },
  {
   "cell_type": "markdown",
   "metadata": {},
   "source": [
    "#### List Rollback Files\n",
    "To list all rollback files, use the `list_rollback_files` method. This method sends a `GET` request to the NSO and prints the results.\n",
    "\n",
    "- REST Path: `/data/tailf-rollback:rollback-files`\n",
    "- REST Operation: `GET`"
   ]
  },
  {
   "cell_type": "code",
   "execution_count": null,
   "metadata": {},
   "outputs": [],
   "source": [
    "restconf.list_rollback_files()"
   ]
  },
  {
   "cell_type": "markdown",
   "metadata": {},
   "source": [
    "#### Apply Rollback File\n",
    "To apply a rollback file, use the `apply_rollback_file` method. This method sends a `POST` request to the NSO with the specified rollback ID and prints the results.\n",
    "\n",
    "- REST Path: `/data/tailf-rollback:rollback-files/apply-rollback-file`\n",
    "- REST Operation: `POST`"
   ]
  },
  {
   "cell_type": "code",
   "execution_count": null,
   "metadata": {},
   "outputs": [],
   "source": [
    "restconf.apply_rollback_file(rollback_id=0)"
   ]
  },
  {
   "cell_type": "code",
   "execution_count": null,
   "metadata": {},
   "outputs": [],
   "source": [
    "restconf.check_dns_config(device=\"ex1\")"
   ]
  },
  {
   "cell_type": "code",
   "execution_count": null,
   "metadata": {},
   "outputs": [],
   "source": [
    "restconf.dry_run_add_dns_server(device=\"ex1\", dns_server=\"3.3.3.3\")"
   ]
  },
  {
   "cell_type": "code",
   "execution_count": null,
   "metadata": {},
   "outputs": [],
   "source": [
    "restconf.check_dns_config(device=\"ex1\")"
   ]
  },
  {
   "cell_type": "code",
   "execution_count": null,
   "metadata": {},
   "outputs": [],
   "source": [
    "restconf.add_dns_server(device=\"ex1\", dns_server=\"3.3.3.3\")"
   ]
  },
  {
   "cell_type": "code",
   "execution_count": null,
   "metadata": {},
   "outputs": [],
   "source": [
    "restconf.check_dns_config(device=\"ex1\")"
   ]
  },
  {
   "cell_type": "code",
   "execution_count": null,
   "metadata": {},
   "outputs": [],
   "source": [
    "! make -C $REPO_DIR clean"
   ]
  },
  {
   "cell_type": "markdown",
   "metadata": {},
   "source": [
    "### More Restconf Examples\n",
    "\n",
    "To find more restconf examples that come with NSO do"
   ]
  },
  {
   "cell_type": "code",
   "execution_count": null,
   "metadata": {},
   "outputs": [],
   "source": [
    "! find $NCS_DIR/examples.ncs/ -type f -name \"showcase_rc.py\""
   ]
  }
 ],
 "metadata": {
  "language_info": {
   "name": "python"
  }
 },
 "nbformat": 4,
 "nbformat_minor": 2
}
