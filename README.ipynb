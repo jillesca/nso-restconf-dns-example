{
 "cells": [
  {
   "cell_type": "markdown",
   "metadata": {},
   "source": [
    "# NSO Restconf - DNS Example\n",
    "\n",
    "This notebook provides an example of how to interact with NSO programmatically using `REST` APIs.\n",
    "\n",
    "The `REST` API are implemented in the `dns_restconf.py` module. \n",
    "\n",
    "The module provides several methods to list devices, synchronize device configurations, and perform a dry-run addition of a DNS server."
   ]
  },
  {
   "cell_type": "markdown",
   "metadata": {},
   "source": [
    "## Lab Setup"
   ]
  },
  {
   "cell_type": "markdown",
   "metadata": {},
   "source": [
    "By following these steps, you will have the lab environment set up and ready to proceed with the experiment.\n",
    "\n",
    "The [Makefile](Makefile) checks all the environment variables are set, any env var missing will cause the `Makefile` to fail."
   ]
  },
  {
   "cell_type": "code",
   "execution_count": null,
   "metadata": {},
   "outputs": [],
   "source": [
    "%env NCS_RUN_DIR=~/nso-lab-rundir\n",
    "%env REPO_DIR=~/src/nso-restconf-dns-example"
   ]
  },
  {
   "cell_type": "markdown",
   "metadata": {},
   "source": [
    "Source the `ncsrc` file."
   ]
  },
  {
   "cell_type": "code",
   "execution_count": null,
   "metadata": {},
   "outputs": [],
   "source": [
    "! source $NCS_DIR/ncsrc"
   ]
  },
  {
   "cell_type": "markdown",
   "metadata": {},
   "source": [
    "Build the environment. Everytime you build the environment, netsim & ncs are stopped, then the environment on `$NCS_RUN_DIR` is deleted. This is useful to start from scratch everytime when experimenting."
   ]
  },
  {
   "cell_type": "code",
   "execution_count": null,
   "metadata": {},
   "outputs": [],
   "source": [
    "! make -C $REPO_DIR build"
   ]
  },
  {
   "cell_type": "markdown",
   "metadata": {},
   "source": [
    "---"
   ]
  },
  {
   "cell_type": "markdown",
   "metadata": {},
   "source": [
    "## Initialization\n",
    "\n",
    "First, initialize the session handler with your NSO credentials and base URL.\n"
   ]
  },
  {
   "cell_type": "code",
   "execution_count": null,
   "metadata": {},
   "outputs": [],
   "source": [
    "from dns_restconf import DnsHandler\n",
    "\n",
    "USERNAME = \"admin\"\n",
    "PASSWORD = \"admin\"\n",
    "BASE_URL = \"http://localhost:8080/restconf\"\n",
    "\n",
    "restconf = DnsHandler(USERNAME, PASSWORD, BASE_URL)"
   ]
  },
  {
   "cell_type": "markdown",
   "metadata": {},
   "source": [
    "---"
   ]
  },
  {
   "cell_type": "markdown",
   "metadata": {},
   "source": [
    "#### List Devices in NSO\n",
    "To list all devices in the NSO, we created the `list_devices_in_nso` method. This method sends a GET request to the NSO and prints the results.\n",
    "\n",
    "- REST Path: `/data?fields=tailf-ncs:devices/device(name;address)`\n",
    "- REST Operation: `GET`"
   ]
  },
  {
   "cell_type": "code",
   "execution_count": null,
   "metadata": {},
   "outputs": [],
   "source": [
    "restconf.list_devices_in_nso()"
   ]
  },
  {
   "cell_type": "markdown",
   "metadata": {},
   "source": [
    "---"
   ]
  },
  {
   "cell_type": "markdown",
   "metadata": {},
   "source": [
    "#### Synchronize Configuration from a Single Device\n",
    "To synchronize the configuration from a single device, the `nso_sync_from_single_device` method was created. This method sends a `POST` request to the NSO for the specified device and prints the results.\n",
    "\n",
    "- REST Path: `/operations/tailf-ncs:devices/device={device}/sync-from`\n",
    "- REST Operation: `POST`"
   ]
  },
  {
   "cell_type": "code",
   "execution_count": null,
   "metadata": {},
   "outputs": [],
   "source": [
    "restconf.nso_sync_from_single_device(device=\"ex1\")"
   ]
  },
  {
   "cell_type": "markdown",
   "metadata": {},
   "source": [
    "---"
   ]
  },
  {
   "cell_type": "markdown",
   "metadata": {},
   "source": [
    "#### Synchronize Configuration from All Devices\n",
    "To synchronize the configuration from all devices, we added the `nso_sync_from` function. This method sends a `POST` request to the NSO and prints the results.\n",
    "\n",
    "- REST Path: `/operations/tailf-ncs:devices/sync-from`\n",
    "- REST Operation: `POST`"
   ]
  },
  {
   "cell_type": "code",
   "execution_count": null,
   "metadata": {},
   "outputs": [],
   "source": [
    "restconf.nso_sync_from()"
   ]
  },
  {
   "cell_type": "markdown",
   "metadata": {},
   "source": [
    "---"
   ]
  },
  {
   "cell_type": "markdown",
   "metadata": {},
   "source": [
    "#### Add DNS Server\n",
    "To add a DNS server to a device, we are using the `add_dns_server` method. This method sends a `PATCH` request to the NSO with the specified device and DNS server details and prints the results.\n",
    "\n",
    "- REST Path: `/data`\n",
    "- REST Operation: `PATCH`\n",
    "- Payloud:\n",
    "\n",
    "```json\n",
    "{\n",
    "  \"data\": {\n",
    "    \"dns-config:dns-config\": [\n",
    "      {\"device\": device, \"dns-server\": [{\"address\": dns_server}]}\n",
    "    ]\n",
    "  }\n",
    "}\n",
    "```\n",
    "> Payload is based on the yang model of the service"
   ]
  },
  {
   "cell_type": "code",
   "execution_count": null,
   "metadata": {},
   "outputs": [],
   "source": [
    "restconf.add_dns_server(device=\"ex1\", dns_server=\"1.1.1.1\")"
   ]
  },
  {
   "cell_type": "markdown",
   "metadata": {},
   "source": [
    "---"
   ]
  },
  {
   "cell_type": "markdown",
   "metadata": {},
   "source": [
    "#### Check DNS Configuration\n",
    "To check the DNS configuration of a device, we use the `check_dns_config` method. This method sends a `GET` request to the NSO and prints the results.\n",
    "\n",
    "- REST Path: `/data/tailf-ncs:devices/device={device}/config/tailf-ned-cisco-ios:ip/name-server/`\n",
    "- REST Operation: `GET`"
   ]
  },
  {
   "cell_type": "code",
   "execution_count": null,
   "metadata": {},
   "outputs": [],
   "source": [
    "restconf.check_dns_config(device=\"ex1\")"
   ]
  },
  {
   "cell_type": "markdown",
   "metadata": {},
   "source": [
    "---"
   ]
  },
  {
   "cell_type": "markdown",
   "metadata": {},
   "source": [
    "#### Dry-Run Add DNS Server\n",
    "To perform a dry-run addition of a DNS server to a device, use the `dry_run_add_dns_server` method. This method sends a `PATCH` request to the NSO with the specified device and DNS server details and prints the results.\n",
    "\n",
    "- REST Path: `/data?dry-run=native`\n",
    "- REST Operation: `PATCH`\n",
    "- Payload:\n",
    "\n",
    "```json\n",
    "{\n",
    "  \"data\": {\n",
    "    \"dns-config:dns-config\": [\n",
    "      {\"device\": device, \"dns-server\": [{\"address\": dns_server}]}\n",
    "    ]\n",
    "  }\n",
    "}\n",
    "```\n",
    "> Payload is based on the yang model of the service"
   ]
  },
  {
   "cell_type": "code",
   "execution_count": null,
   "metadata": {},
   "outputs": [],
   "source": [
    "restconf.dry_run_add_dns_server(device=\"ex1\", dns_server=\"2.2.2.2\")"
   ]
  },
  {
   "cell_type": "markdown",
   "metadata": {},
   "source": [
    "---"
   ]
  },
  {
   "cell_type": "markdown",
   "metadata": {},
   "source": [
    "Review existing configuration on `ex1`, confirm no changes were pushed.\n",
    "- REST Path: `/data/tailf-ncs:devices/device={device}/config/tailf-ned-cisco-ios:ip/name-server/`\n",
    "- REST Operation: `GET`"
   ]
  },
  {
   "cell_type": "code",
   "execution_count": null,
   "metadata": {},
   "outputs": [],
   "source": [
    "restconf.check_dns_config(device=\"ex1\")"
   ]
  },
  {
   "cell_type": "markdown",
   "metadata": {},
   "source": [
    "---"
   ]
  },
  {
   "cell_type": "markdown",
   "metadata": {},
   "source": [
    "Add a DNS server to `ex1`.\n",
    "- REST Path: `/data`\n",
    "- REST Operation: `PATCH`\n",
    "- Payloud:\n",
    "\n",
    "```json\n",
    "{\n",
    "  \"data\": {\n",
    "    \"dns-config:dns-config\": [\n",
    "      {\"device\": device, \"dns-server\": [{\"address\": dns_server}]}\n",
    "    ]\n",
    "  }\n",
    "}\n",
    "```"
   ]
  },
  {
   "cell_type": "code",
   "execution_count": null,
   "metadata": {},
   "outputs": [],
   "source": [
    "restconf.add_dns_server(device=\"ex1\", dns_server=\"2.2.2.2\")"
   ]
  },
  {
   "cell_type": "markdown",
   "metadata": {},
   "source": [
    "---"
   ]
  },
  {
   "cell_type": "markdown",
   "metadata": {},
   "source": [
    "Confirm new DNS server is present in `ex1`.\n",
    "- REST Path: `/data/tailf-ncs:devices/device={device}/config/tailf-ned-cisco-ios:ip/name-server/`\n",
    "- REST Operation: `GET`"
   ]
  },
  {
   "cell_type": "code",
   "execution_count": null,
   "metadata": {},
   "outputs": [],
   "source": [
    "restconf.check_dns_config(device=\"ex1\")"
   ]
  },
  {
   "cell_type": "markdown",
   "metadata": {},
   "source": [
    "---"
   ]
  },
  {
   "cell_type": "markdown",
   "metadata": {},
   "source": [
    "#### List Rollback Files\n",
    "To list all rollback files, use the `list_rollback_files` method. This method sends a `GET` request to the NSO and prints the results.\n",
    "\n",
    "- REST Path: `/data/tailf-rollback:rollback-files`\n",
    "- REST Operation: `GET`"
   ]
  },
  {
   "cell_type": "code",
   "execution_count": null,
   "metadata": {},
   "outputs": [],
   "source": [
    "restconf.list_rollback_files()"
   ]
  },
  {
   "cell_type": "markdown",
   "metadata": {},
   "source": [
    "---"
   ]
  },
  {
   "cell_type": "markdown",
   "metadata": {},
   "source": [
    "#### Apply Rollback File\n",
    "To apply a rollback file, use the `apply_rollback_file` method. This method sends a `POST` request to the NSO with the specified rollback ID and prints the results.\n",
    "\n",
    "- REST Path: `/data/tailf-rollback:rollback-files/apply-rollback-file`\n",
    "- REST Operation: `POST`"
   ]
  },
  {
   "cell_type": "code",
   "execution_count": null,
   "metadata": {},
   "outputs": [],
   "source": [
    "restconf.apply_rollback_file(rollback_id=0)"
   ]
  },
  {
   "cell_type": "markdown",
   "metadata": {},
   "source": [
    "---"
   ]
  },
  {
   "cell_type": "markdown",
   "metadata": {},
   "source": [
    "See the changes done on `ex1` after the rollback.\n",
    "- REST Path: `/data/tailf-ncs:devices/device={device}/config/tailf-ned-cisco-ios:ip/name-server/`\n",
    "- REST Operation: `GET`"
   ]
  },
  {
   "cell_type": "code",
   "execution_count": null,
   "metadata": {},
   "outputs": [],
   "source": [
    "restconf.check_dns_config(device=\"ex1\")"
   ]
  },
  {
   "cell_type": "markdown",
   "metadata": {},
   "source": [
    "---"
   ]
  },
  {
   "cell_type": "markdown",
   "metadata": {},
   "source": [
    "Dry-run adding a new DNS server.\n",
    "- REST Path: `/data?dry-run=native`\n",
    "- REST Operation: `PATCH`\n",
    "- Payload:\n",
    "\n",
    "```json\n",
    "{\n",
    "  \"data\": {\n",
    "    \"dns-config:dns-config\": [\n",
    "      {\"device\": device, \"dns-server\": [{\"address\": dns_server}]}\n",
    "    ]\n",
    "  }\n",
    "}\n",
    "```\n",
    "> Payload is based on the yang model of the service"
   ]
  },
  {
   "cell_type": "code",
   "execution_count": null,
   "metadata": {},
   "outputs": [],
   "source": [
    "restconf.dry_run_add_dns_server(device=\"ex1\", dns_server=\"3.3.3.3\")"
   ]
  },
  {
   "cell_type": "markdown",
   "metadata": {},
   "source": [
    "---"
   ]
  },
  {
   "cell_type": "markdown",
   "metadata": {},
   "source": [
    "Review existing configuration on `ex1`, confirm no changes were pushed.\n",
    "- REST Path: `/data/tailf-ncs:devices/device={device}/config/tailf-ned-cisco-ios:ip/name-server/`\n",
    "- REST Operation: `GET`"
   ]
  },
  {
   "cell_type": "code",
   "execution_count": null,
   "metadata": {},
   "outputs": [],
   "source": [
    "restconf.check_dns_config(device=\"ex1\")"
   ]
  },
  {
   "cell_type": "markdown",
   "metadata": {},
   "source": [
    "---"
   ]
  },
  {
   "cell_type": "markdown",
   "metadata": {},
   "source": [
    "Add a DNS server to `ex1`.\n",
    "- REST Path: `/data`\n",
    "- REST Operation: `PATCH`\n",
    "- Payloud:\n",
    "\n",
    "```json\n",
    "{\n",
    "  \"data\": {\n",
    "    \"dns-config:dns-config\": [\n",
    "      {\"device\": device, \"dns-server\": [{\"address\": dns_server}]}\n",
    "    ]\n",
    "  }\n",
    "}\n",
    "```\n",
    "> Payload is based on the yang model of the service"
   ]
  },
  {
   "cell_type": "code",
   "execution_count": null,
   "metadata": {},
   "outputs": [],
   "source": [
    "restconf.add_dns_server(device=\"ex1\", dns_server=\"3.3.3.3\")"
   ]
  },
  {
   "cell_type": "markdown",
   "metadata": {},
   "source": [
    "---"
   ]
  },
  {
   "cell_type": "markdown",
   "metadata": {},
   "source": [
    "Confirm new DNS server is present in `ex1`.\n",
    "- REST Path: `/data/tailf-ncs:devices/device={device}/config/tailf-ned-cisco-ios:ip/name-server/`\n",
    "- REST Operation: `GET`"
   ]
  },
  {
   "cell_type": "code",
   "execution_count": null,
   "metadata": {},
   "outputs": [],
   "source": [
    "restconf.check_dns_config(device=\"ex1\")"
   ]
  },
  {
   "cell_type": "markdown",
   "metadata": {},
   "source": [
    "---"
   ]
  },
  {
   "cell_type": "markdown",
   "metadata": {},
   "source": [
    "### Clean Up\n",
    "\n",
    "If needed you can clean up the exercise to practice more."
   ]
  },
  {
   "cell_type": "code",
   "execution_count": null,
   "metadata": {},
   "outputs": [],
   "source": [
    "! make -C $REPO_DIR clean"
   ]
  },
  {
   "cell_type": "markdown",
   "metadata": {},
   "source": [
    "---"
   ]
  },
  {
   "cell_type": "markdown",
   "metadata": {},
   "source": [
    "### More Restconf Examples\n",
    "\n",
    "To find more restconf examples that come with NSO do"
   ]
  },
  {
   "cell_type": "code",
   "execution_count": null,
   "metadata": {},
   "outputs": [],
   "source": [
    "! find $NCS_DIR/examples.ncs/ -type f -name \"showcase_rc.py\""
   ]
  }
 ],
 "metadata": {
  "language_info": {
   "name": "python"
  }
 },
 "nbformat": 4,
 "nbformat_minor": 2
}
